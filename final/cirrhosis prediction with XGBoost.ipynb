{
 "cells": [
  {
   "cell_type": "markdown",
   "id": "ffafdc91",
   "metadata": {
    "id": "n5ACXNjPY8eG",
    "papermill": {
     "duration": 0.044453,
     "end_time": "2021-11-17T11:55:09.322273",
     "exception": false,
     "start_time": "2021-11-17T11:55:09.277820",
     "status": "completed"
    },
    "tags": []
   },
   "source": [
    "# Liver cirrhosis prediction using XGboost and Stratified K-fold⚕\n",
    "\n",
    "By Vinay Ale"
   ]
  },
  {
   "cell_type": "markdown",
   "id": "31d96f89",
   "metadata": {
    "id": "KUItZezkeftD",
    "papermill": {
     "duration": 0.041542,
     "end_time": "2021-11-17T11:55:09.687693",
     "exception": false,
     "start_time": "2021-11-17T11:55:09.646151",
     "status": "completed"
    },
    "tags": []
   },
   "source": [
    "# Imports "
   ]
  },
  {
   "cell_type": "code",
   "execution_count": 161,
   "id": "1adfa45c",
   "metadata": {},
   "outputs": [
    {
     "name": "stdout",
     "output_type": "stream",
     "text": [
      "Requirement already satisfied: shap in c:\\users\\vinay\\appdata\\local\\programs\\python\\python39\\lib\\site-packages (0.41.0)Note: you may need to restart the kernel to use updated packages.\n",
      "\n",
      "Requirement already satisfied: slicer==0.0.7 in c:\\users\\vinay\\appdata\\local\\programs\\python\\python39\\lib\\site-packages (from shap) (0.0.7)\n",
      "Requirement already satisfied: tqdm>4.25.0 in c:\\users\\vinay\\appdata\\local\\programs\\python\\python39\\lib\\site-packages (from shap) (4.64.0)\n",
      "Requirement already satisfied: scikit-learn in c:\\users\\vinay\\appdata\\local\\programs\\python\\python39\\lib\\site-packages (from shap) (1.1.1)\n",
      "Requirement already satisfied: scipy in c:\\users\\vinay\\appdata\\local\\programs\\python\\python39\\lib\\site-packages (from shap) (1.8.1)\n",
      "Requirement already satisfied: numpy in c:\\users\\vinay\\appdata\\local\\programs\\python\\python39\\lib\\site-packages (from shap) (1.22.3)\n",
      "Requirement already satisfied: packaging>20.9 in c:\\users\\vinay\\appdata\\local\\programs\\python\\python39\\lib\\site-packages (from shap) (21.3)\n",
      "Requirement already satisfied: numba in c:\\users\\vinay\\appdata\\local\\programs\\python\\python39\\lib\\site-packages (from shap) (0.55.2)\n",
      "Requirement already satisfied: pandas in c:\\users\\vinay\\appdata\\local\\programs\\python\\python39\\lib\\site-packages (from shap) (1.4.2)\n",
      "Requirement already satisfied: cloudpickle in c:\\users\\vinay\\appdata\\local\\programs\\python\\python39\\lib\\site-packages (from shap) (2.1.0)\n",
      "Requirement already satisfied: pyparsing!=3.0.5,>=2.0.2 in c:\\users\\vinay\\appdata\\local\\programs\\python\\python39\\lib\\site-packages (from packaging>20.9->shap) (3.0.9)\n",
      "Requirement already satisfied: colorama in c:\\users\\vinay\\appdata\\local\\programs\\python\\python39\\lib\\site-packages (from tqdm>4.25.0->shap) (0.4.5)\n",
      "Requirement already satisfied: llvmlite<0.39,>=0.38.0rc1 in c:\\users\\vinay\\appdata\\local\\programs\\python\\python39\\lib\\site-packages (from numba->shap) (0.38.1)\n",
      "Requirement already satisfied: setuptools in c:\\users\\vinay\\appdata\\local\\programs\\python\\python39\\lib\\site-packages (from numba->shap) (58.1.0)\n",
      "Requirement already satisfied: pytz>=2020.1 in c:\\users\\vinay\\appdata\\local\\programs\\python\\python39\\lib\\site-packages (from pandas->shap) (2022.1)\n",
      "Requirement already satisfied: python-dateutil>=2.8.1 in c:\\users\\vinay\\appdata\\local\\programs\\python\\python39\\lib\\site-packages (from pandas->shap) (2.8.2)\n",
      "Requirement already satisfied: joblib>=1.0.0 in c:\\users\\vinay\\appdata\\local\\programs\\python\\python39\\lib\\site-packages (from scikit-learn->shap) (1.1.0)\n",
      "Requirement already satisfied: threadpoolctl>=2.0.0 in c:\\users\\vinay\\appdata\\local\\programs\\python\\python39\\lib\\site-packages (from scikit-learn->shap) (3.1.0)\n",
      "Requirement already satisfied: six>=1.5 in c:\\users\\vinay\\appdata\\local\\programs\\python\\python39\\lib\\site-packages (from python-dateutil>=2.8.1->pandas->shap) (1.12.0)\n",
      "\n",
      "[notice] A new release of pip available: 22.1.2 -> 22.2\n",
      "[notice] To update, run: C:\\Users\\vinay\\AppData\\Local\\Programs\\Python\\Python39\\python.exe -m pip install --upgrade pip\n"
     ]
    }
   ],
   "source": [
    "pip install shap"
   ]
  },
  {
   "cell_type": "code",
   "execution_count": 162,
   "id": "72cf8b1b",
   "metadata": {
    "execution": {
     "iopub.execute_input": "2021-11-17T11:55:09.784684Z",
     "iopub.status.busy": "2021-11-17T11:55:09.776074Z",
     "iopub.status.idle": "2021-11-17T11:55:10.725375Z",
     "shell.execute_reply": "2021-11-17T11:55:10.725997Z",
     "shell.execute_reply.started": "2021-11-17T11:41:57.979362Z"
    },
    "id": "Unvd3QADYIjD",
    "papermill": {
     "duration": 0.996673,
     "end_time": "2021-11-17T11:55:10.726355",
     "exception": false,
     "start_time": "2021-11-17T11:55:09.729682",
     "status": "completed"
    },
    "tags": []
   },
   "outputs": [],
   "source": [
    "# %load_ext google.colab.data_table\n",
    "import numpy as np\n",
    "import pandas as pd\n",
    "import matplotlib.pyplot as plt\n",
    "import seaborn as sns"
   ]
  },
  {
   "cell_type": "markdown",
   "id": "4bc54c09",
   "metadata": {
    "id": "9Zu-KbiZdfn9",
    "papermill": {
     "duration": 0.041432,
     "end_time": "2021-11-17T11:55:10.809837",
     "exception": false,
     "start_time": "2021-11-17T11:55:10.768405",
     "status": "completed"
    },
    "tags": []
   },
   "source": [
    "# Lets Load the data and have a quick look."
   ]
  },
  {
   "cell_type": "code",
   "execution_count": 163,
   "id": "f880e882",
   "metadata": {
    "cellView": "form",
    "execution": {
     "iopub.execute_input": "2021-11-17T11:55:10.896956Z",
     "iopub.status.busy": "2021-11-17T11:55:10.895961Z",
     "iopub.status.idle": "2021-11-17T11:55:10.952849Z",
     "shell.execute_reply": "2021-11-17T11:55:10.953372Z",
     "shell.execute_reply.started": "2021-11-17T11:41:58.248498Z"
    },
    "id": "_Oqg1LKCciAy",
    "outputId": "26e598e6-5113-4b77-888a-0926d3f6348e",
    "papermill": {
     "duration": 0.102011,
     "end_time": "2021-11-17T11:55:10.953552",
     "exception": false,
     "start_time": "2021-11-17T11:55:10.851541",
     "status": "completed"
    },
    "tags": []
   },
   "outputs": [
    {
     "data": {
      "text/html": [
       "<div>\n",
       "<style scoped>\n",
       "    .dataframe tbody tr th:only-of-type {\n",
       "        vertical-align: middle;\n",
       "    }\n",
       "\n",
       "    .dataframe tbody tr th {\n",
       "        vertical-align: top;\n",
       "    }\n",
       "\n",
       "    .dataframe thead th {\n",
       "        text-align: right;\n",
       "    }\n",
       "</style>\n",
       "<table border=\"1\" class=\"dataframe\">\n",
       "  <thead>\n",
       "    <tr style=\"text-align: right;\">\n",
       "      <th></th>\n",
       "      <th>N_Days</th>\n",
       "      <th>Status</th>\n",
       "      <th>Drug</th>\n",
       "      <th>Age</th>\n",
       "      <th>Sex</th>\n",
       "      <th>Ascites</th>\n",
       "      <th>Hepatomegaly</th>\n",
       "      <th>Spiders</th>\n",
       "      <th>Edema</th>\n",
       "      <th>Bilirubin</th>\n",
       "      <th>Cholesterol</th>\n",
       "      <th>Albumin</th>\n",
       "      <th>Copper</th>\n",
       "      <th>Alk_Phos</th>\n",
       "      <th>SGOT</th>\n",
       "      <th>Tryglicerides</th>\n",
       "      <th>Platelets</th>\n",
       "      <th>Prothrombin</th>\n",
       "      <th>Stage</th>\n",
       "    </tr>\n",
       "    <tr>\n",
       "      <th>ID</th>\n",
       "      <th></th>\n",
       "      <th></th>\n",
       "      <th></th>\n",
       "      <th></th>\n",
       "      <th></th>\n",
       "      <th></th>\n",
       "      <th></th>\n",
       "      <th></th>\n",
       "      <th></th>\n",
       "      <th></th>\n",
       "      <th></th>\n",
       "      <th></th>\n",
       "      <th></th>\n",
       "      <th></th>\n",
       "      <th></th>\n",
       "      <th></th>\n",
       "      <th></th>\n",
       "      <th></th>\n",
       "      <th></th>\n",
       "    </tr>\n",
       "  </thead>\n",
       "  <tbody>\n",
       "    <tr>\n",
       "      <th>1</th>\n",
       "      <td>400</td>\n",
       "      <td>D</td>\n",
       "      <td>D-penicillamine</td>\n",
       "      <td>21464</td>\n",
       "      <td>F</td>\n",
       "      <td>Y</td>\n",
       "      <td>Y</td>\n",
       "      <td>Y</td>\n",
       "      <td>Y</td>\n",
       "      <td>14.5</td>\n",
       "      <td>261.0</td>\n",
       "      <td>2.60</td>\n",
       "      <td>156.0</td>\n",
       "      <td>1718.0</td>\n",
       "      <td>137.95</td>\n",
       "      <td>172.0</td>\n",
       "      <td>190.0</td>\n",
       "      <td>12.2</td>\n",
       "      <td>4.0</td>\n",
       "    </tr>\n",
       "    <tr>\n",
       "      <th>2</th>\n",
       "      <td>4500</td>\n",
       "      <td>C</td>\n",
       "      <td>D-penicillamine</td>\n",
       "      <td>20617</td>\n",
       "      <td>F</td>\n",
       "      <td>N</td>\n",
       "      <td>Y</td>\n",
       "      <td>Y</td>\n",
       "      <td>N</td>\n",
       "      <td>1.1</td>\n",
       "      <td>302.0</td>\n",
       "      <td>4.14</td>\n",
       "      <td>54.0</td>\n",
       "      <td>7394.8</td>\n",
       "      <td>113.52</td>\n",
       "      <td>88.0</td>\n",
       "      <td>221.0</td>\n",
       "      <td>10.6</td>\n",
       "      <td>3.0</td>\n",
       "    </tr>\n",
       "    <tr>\n",
       "      <th>3</th>\n",
       "      <td>1012</td>\n",
       "      <td>D</td>\n",
       "      <td>D-penicillamine</td>\n",
       "      <td>25594</td>\n",
       "      <td>M</td>\n",
       "      <td>N</td>\n",
       "      <td>N</td>\n",
       "      <td>N</td>\n",
       "      <td>S</td>\n",
       "      <td>1.4</td>\n",
       "      <td>176.0</td>\n",
       "      <td>3.48</td>\n",
       "      <td>210.0</td>\n",
       "      <td>516.0</td>\n",
       "      <td>96.10</td>\n",
       "      <td>55.0</td>\n",
       "      <td>151.0</td>\n",
       "      <td>12.0</td>\n",
       "      <td>4.0</td>\n",
       "    </tr>\n",
       "    <tr>\n",
       "      <th>4</th>\n",
       "      <td>1925</td>\n",
       "      <td>D</td>\n",
       "      <td>D-penicillamine</td>\n",
       "      <td>19994</td>\n",
       "      <td>F</td>\n",
       "      <td>N</td>\n",
       "      <td>Y</td>\n",
       "      <td>Y</td>\n",
       "      <td>S</td>\n",
       "      <td>1.8</td>\n",
       "      <td>244.0</td>\n",
       "      <td>2.54</td>\n",
       "      <td>64.0</td>\n",
       "      <td>6121.8</td>\n",
       "      <td>60.63</td>\n",
       "      <td>92.0</td>\n",
       "      <td>183.0</td>\n",
       "      <td>10.3</td>\n",
       "      <td>4.0</td>\n",
       "    </tr>\n",
       "    <tr>\n",
       "      <th>5</th>\n",
       "      <td>1504</td>\n",
       "      <td>CL</td>\n",
       "      <td>Placebo</td>\n",
       "      <td>13918</td>\n",
       "      <td>F</td>\n",
       "      <td>N</td>\n",
       "      <td>Y</td>\n",
       "      <td>Y</td>\n",
       "      <td>N</td>\n",
       "      <td>3.4</td>\n",
       "      <td>279.0</td>\n",
       "      <td>3.53</td>\n",
       "      <td>143.0</td>\n",
       "      <td>671.0</td>\n",
       "      <td>113.15</td>\n",
       "      <td>72.0</td>\n",
       "      <td>136.0</td>\n",
       "      <td>10.9</td>\n",
       "      <td>3.0</td>\n",
       "    </tr>\n",
       "  </tbody>\n",
       "</table>\n",
       "</div>"
      ],
      "text/plain": [
       "    N_Days Status             Drug    Age Sex Ascites Hepatomegaly Spiders  \\\n",
       "ID                                                                           \n",
       "1      400      D  D-penicillamine  21464   F       Y            Y       Y   \n",
       "2     4500      C  D-penicillamine  20617   F       N            Y       Y   \n",
       "3     1012      D  D-penicillamine  25594   M       N            N       N   \n",
       "4     1925      D  D-penicillamine  19994   F       N            Y       Y   \n",
       "5     1504     CL          Placebo  13918   F       N            Y       Y   \n",
       "\n",
       "   Edema  Bilirubin  Cholesterol  Albumin  Copper  Alk_Phos    SGOT  \\\n",
       "ID                                                                    \n",
       "1      Y       14.5        261.0     2.60   156.0    1718.0  137.95   \n",
       "2      N        1.1        302.0     4.14    54.0    7394.8  113.52   \n",
       "3      S        1.4        176.0     3.48   210.0     516.0   96.10   \n",
       "4      S        1.8        244.0     2.54    64.0    6121.8   60.63   \n",
       "5      N        3.4        279.0     3.53   143.0     671.0  113.15   \n",
       "\n",
       "    Tryglicerides  Platelets  Prothrombin  Stage  \n",
       "ID                                                \n",
       "1           172.0      190.0         12.2    4.0  \n",
       "2            88.0      221.0         10.6    3.0  \n",
       "3            55.0      151.0         12.0    4.0  \n",
       "4            92.0      183.0         10.3    4.0  \n",
       "5            72.0      136.0         10.9    3.0  "
      ]
     },
     "execution_count": 163,
     "metadata": {},
     "output_type": "execute_result"
    }
   ],
   "source": [
    "#@title Default title text\n",
    "df = pd.read_csv('cirrhosis.csv', index_col='ID')\n",
    "df.head()"
   ]
  },
  {
   "cell_type": "code",
   "execution_count": 164,
   "id": "26e2b30d",
   "metadata": {
    "execution": {
     "iopub.execute_input": "2021-11-17T11:55:11.103484Z",
     "iopub.status.busy": "2021-11-17T11:55:11.102794Z",
     "iopub.status.idle": "2021-11-17T11:55:11.121252Z",
     "shell.execute_reply": "2021-11-17T11:55:11.121753Z",
     "shell.execute_reply.started": "2021-11-17T11:41:58.30611Z"
    },
    "id": "gZ9a76VgeojU",
    "outputId": "fbc26e4f-15db-4d05-e09c-65c80cfde7bd",
    "papermill": {
     "duration": 0.12607,
     "end_time": "2021-11-17T11:55:11.121942",
     "exception": false,
     "start_time": "2021-11-17T11:55:10.995872",
     "status": "completed"
    },
    "tags": []
   },
   "outputs": [
    {
     "name": "stdout",
     "output_type": "stream",
     "text": [
      "<class 'pandas.core.frame.DataFrame'>\n",
      "Int64Index: 418 entries, 1 to 418\n",
      "Data columns (total 19 columns):\n",
      " #   Column         Non-Null Count  Dtype  \n",
      "---  ------         --------------  -----  \n",
      " 0   N_Days         418 non-null    int64  \n",
      " 1   Status         418 non-null    object \n",
      " 2   Drug           312 non-null    object \n",
      " 3   Age            418 non-null    int64  \n",
      " 4   Sex            418 non-null    object \n",
      " 5   Ascites        312 non-null    object \n",
      " 6   Hepatomegaly   312 non-null    object \n",
      " 7   Spiders        312 non-null    object \n",
      " 8   Edema          418 non-null    object \n",
      " 9   Bilirubin      418 non-null    float64\n",
      " 10  Cholesterol    284 non-null    float64\n",
      " 11  Albumin        418 non-null    float64\n",
      " 12  Copper         310 non-null    float64\n",
      " 13  Alk_Phos       312 non-null    float64\n",
      " 14  SGOT           312 non-null    float64\n",
      " 15  Tryglicerides  282 non-null    float64\n",
      " 16  Platelets      407 non-null    float64\n",
      " 17  Prothrombin    416 non-null    float64\n",
      " 18  Stage          412 non-null    float64\n",
      "dtypes: float64(10), int64(2), object(7)\n",
      "memory usage: 65.3+ KB\n"
     ]
    }
   ],
   "source": [
    "df.info()"
   ]
  },
  {
   "cell_type": "markdown",
   "id": "51bf0c2c",
   "metadata": {
    "id": "VHL1L9jge6Jy",
    "papermill": {
     "duration": 0.042431,
     "end_time": "2021-11-17T11:55:11.207208",
     "exception": false,
     "start_time": "2021-11-17T11:55:11.164777",
     "status": "completed"
    },
    "tags": []
   },
   "source": [
    "This data set has about 19 features. These features are related to the patient’s details like age, sex, etc. and patient’s blood tests like prothrombin, triglycerides, platelets levels, etc. All these factors help in understanding a patient’s chances of liver cirrhosis.\n",
    "\n",
    "we have some NA values in our data, lets look at some statistical summary of numerical columns in out dataset."
   ]
  },
  {
   "cell_type": "code",
   "execution_count": 165,
   "id": "cec8ccb3",
   "metadata": {
    "execution": {
     "iopub.execute_input": "2021-11-17T11:55:11.300902Z",
     "iopub.status.busy": "2021-11-17T11:55:11.298609Z",
     "iopub.status.idle": "2021-11-17T11:55:11.347295Z",
     "shell.execute_reply": "2021-11-17T11:55:11.346784Z",
     "shell.execute_reply.started": "2021-11-17T11:41:58.328405Z"
    },
    "id": "W1XmB5Hqe-W4",
    "outputId": "f0d0f8bf-c771-43e7-9d80-f4023fc46c86",
    "papermill": {
     "duration": 0.095768,
     "end_time": "2021-11-17T11:55:11.347460",
     "exception": false,
     "start_time": "2021-11-17T11:55:11.251692",
     "status": "completed"
    },
    "tags": []
   },
   "outputs": [
    {
     "data": {
      "text/html": [
       "<div>\n",
       "<style scoped>\n",
       "    .dataframe tbody tr th:only-of-type {\n",
       "        vertical-align: middle;\n",
       "    }\n",
       "\n",
       "    .dataframe tbody tr th {\n",
       "        vertical-align: top;\n",
       "    }\n",
       "\n",
       "    .dataframe thead th {\n",
       "        text-align: right;\n",
       "    }\n",
       "</style>\n",
       "<table border=\"1\" class=\"dataframe\">\n",
       "  <thead>\n",
       "    <tr style=\"text-align: right;\">\n",
       "      <th></th>\n",
       "      <th>count</th>\n",
       "      <th>mean</th>\n",
       "      <th>std</th>\n",
       "      <th>min</th>\n",
       "      <th>25%</th>\n",
       "      <th>50%</th>\n",
       "      <th>75%</th>\n",
       "      <th>max</th>\n",
       "    </tr>\n",
       "  </thead>\n",
       "  <tbody>\n",
       "    <tr>\n",
       "      <th>N_Days</th>\n",
       "      <td>418.0</td>\n",
       "      <td>1917.782297</td>\n",
       "      <td>1104.672992</td>\n",
       "      <td>41.00</td>\n",
       "      <td>1092.7500</td>\n",
       "      <td>1730.00</td>\n",
       "      <td>2613.50</td>\n",
       "      <td>4795.00</td>\n",
       "    </tr>\n",
       "    <tr>\n",
       "      <th>Age</th>\n",
       "      <td>418.0</td>\n",
       "      <td>18533.351675</td>\n",
       "      <td>3815.845055</td>\n",
       "      <td>9598.00</td>\n",
       "      <td>15644.5000</td>\n",
       "      <td>18628.00</td>\n",
       "      <td>21272.50</td>\n",
       "      <td>28650.00</td>\n",
       "    </tr>\n",
       "    <tr>\n",
       "      <th>Bilirubin</th>\n",
       "      <td>418.0</td>\n",
       "      <td>3.220813</td>\n",
       "      <td>4.407506</td>\n",
       "      <td>0.30</td>\n",
       "      <td>0.8000</td>\n",
       "      <td>1.40</td>\n",
       "      <td>3.40</td>\n",
       "      <td>28.00</td>\n",
       "    </tr>\n",
       "    <tr>\n",
       "      <th>Cholesterol</th>\n",
       "      <td>284.0</td>\n",
       "      <td>369.510563</td>\n",
       "      <td>231.944545</td>\n",
       "      <td>120.00</td>\n",
       "      <td>249.5000</td>\n",
       "      <td>309.50</td>\n",
       "      <td>400.00</td>\n",
       "      <td>1775.00</td>\n",
       "    </tr>\n",
       "    <tr>\n",
       "      <th>Albumin</th>\n",
       "      <td>418.0</td>\n",
       "      <td>3.497440</td>\n",
       "      <td>0.424972</td>\n",
       "      <td>1.96</td>\n",
       "      <td>3.2425</td>\n",
       "      <td>3.53</td>\n",
       "      <td>3.77</td>\n",
       "      <td>4.64</td>\n",
       "    </tr>\n",
       "    <tr>\n",
       "      <th>Copper</th>\n",
       "      <td>310.0</td>\n",
       "      <td>97.648387</td>\n",
       "      <td>85.613920</td>\n",
       "      <td>4.00</td>\n",
       "      <td>41.2500</td>\n",
       "      <td>73.00</td>\n",
       "      <td>123.00</td>\n",
       "      <td>588.00</td>\n",
       "    </tr>\n",
       "    <tr>\n",
       "      <th>Alk_Phos</th>\n",
       "      <td>312.0</td>\n",
       "      <td>1982.655769</td>\n",
       "      <td>2140.388824</td>\n",
       "      <td>289.00</td>\n",
       "      <td>871.5000</td>\n",
       "      <td>1259.00</td>\n",
       "      <td>1980.00</td>\n",
       "      <td>13862.40</td>\n",
       "    </tr>\n",
       "    <tr>\n",
       "      <th>SGOT</th>\n",
       "      <td>312.0</td>\n",
       "      <td>122.556346</td>\n",
       "      <td>56.699525</td>\n",
       "      <td>26.35</td>\n",
       "      <td>80.6000</td>\n",
       "      <td>114.70</td>\n",
       "      <td>151.90</td>\n",
       "      <td>457.25</td>\n",
       "    </tr>\n",
       "    <tr>\n",
       "      <th>Tryglicerides</th>\n",
       "      <td>282.0</td>\n",
       "      <td>124.702128</td>\n",
       "      <td>65.148639</td>\n",
       "      <td>33.00</td>\n",
       "      <td>84.2500</td>\n",
       "      <td>108.00</td>\n",
       "      <td>151.00</td>\n",
       "      <td>598.00</td>\n",
       "    </tr>\n",
       "    <tr>\n",
       "      <th>Platelets</th>\n",
       "      <td>407.0</td>\n",
       "      <td>257.024570</td>\n",
       "      <td>98.325585</td>\n",
       "      <td>62.00</td>\n",
       "      <td>188.5000</td>\n",
       "      <td>251.00</td>\n",
       "      <td>318.00</td>\n",
       "      <td>721.00</td>\n",
       "    </tr>\n",
       "    <tr>\n",
       "      <th>Prothrombin</th>\n",
       "      <td>416.0</td>\n",
       "      <td>10.731731</td>\n",
       "      <td>1.022000</td>\n",
       "      <td>9.00</td>\n",
       "      <td>10.0000</td>\n",
       "      <td>10.60</td>\n",
       "      <td>11.10</td>\n",
       "      <td>18.00</td>\n",
       "    </tr>\n",
       "    <tr>\n",
       "      <th>Stage</th>\n",
       "      <td>412.0</td>\n",
       "      <td>3.024272</td>\n",
       "      <td>0.882042</td>\n",
       "      <td>1.00</td>\n",
       "      <td>2.0000</td>\n",
       "      <td>3.00</td>\n",
       "      <td>4.00</td>\n",
       "      <td>4.00</td>\n",
       "    </tr>\n",
       "  </tbody>\n",
       "</table>\n",
       "</div>"
      ],
      "text/plain": [
       "               count          mean          std      min         25%  \\\n",
       "N_Days         418.0   1917.782297  1104.672992    41.00   1092.7500   \n",
       "Age            418.0  18533.351675  3815.845055  9598.00  15644.5000   \n",
       "Bilirubin      418.0      3.220813     4.407506     0.30      0.8000   \n",
       "Cholesterol    284.0    369.510563   231.944545   120.00    249.5000   \n",
       "Albumin        418.0      3.497440     0.424972     1.96      3.2425   \n",
       "Copper         310.0     97.648387    85.613920     4.00     41.2500   \n",
       "Alk_Phos       312.0   1982.655769  2140.388824   289.00    871.5000   \n",
       "SGOT           312.0    122.556346    56.699525    26.35     80.6000   \n",
       "Tryglicerides  282.0    124.702128    65.148639    33.00     84.2500   \n",
       "Platelets      407.0    257.024570    98.325585    62.00    188.5000   \n",
       "Prothrombin    416.0     10.731731     1.022000     9.00     10.0000   \n",
       "Stage          412.0      3.024272     0.882042     1.00      2.0000   \n",
       "\n",
       "                    50%       75%       max  \n",
       "N_Days          1730.00   2613.50   4795.00  \n",
       "Age            18628.00  21272.50  28650.00  \n",
       "Bilirubin          1.40      3.40     28.00  \n",
       "Cholesterol      309.50    400.00   1775.00  \n",
       "Albumin            3.53      3.77      4.64  \n",
       "Copper            73.00    123.00    588.00  \n",
       "Alk_Phos        1259.00   1980.00  13862.40  \n",
       "SGOT             114.70    151.90    457.25  \n",
       "Tryglicerides    108.00    151.00    598.00  \n",
       "Platelets        251.00    318.00    721.00  \n",
       "Prothrombin       10.60     11.10     18.00  \n",
       "Stage              3.00      4.00      4.00  "
      ]
     },
     "execution_count": 165,
     "metadata": {},
     "output_type": "execute_result"
    }
   ],
   "source": [
    "df.describe().T"
   ]
  },
  {
   "cell_type": "markdown",
   "id": "9ab29189",
   "metadata": {
    "id": "CcpHC9HBqZDe",
    "papermill": {
     "duration": 0.043843,
     "end_time": "2021-11-17T11:55:11.434748",
     "exception": false,
     "start_time": "2021-11-17T11:55:11.390905",
     "status": "completed"
    },
    "tags": []
   },
   "source": [
    "## We have some missing values in our data, lets see how many and in which columns."
   ]
  },
  {
   "cell_type": "code",
   "execution_count": 166,
   "id": "53992511",
   "metadata": {
    "execution": {
     "iopub.execute_input": "2021-11-17T11:55:11.526688Z",
     "iopub.status.busy": "2021-11-17T11:55:11.526030Z",
     "iopub.status.idle": "2021-11-17T11:55:11.536461Z",
     "shell.execute_reply": "2021-11-17T11:55:11.535745Z",
     "shell.execute_reply.started": "2021-11-17T11:41:58.381723Z"
    },
    "id": "NBqGQw8yqGtr",
    "outputId": "7393ba6d-7dc9-4982-dad7-27fd52c4c9b7",
    "papermill": {
     "duration": 0.057774,
     "end_time": "2021-11-17T11:55:11.536624",
     "exception": false,
     "start_time": "2021-11-17T11:55:11.478850",
     "status": "completed"
    },
    "tags": []
   },
   "outputs": [
    {
     "data": {
      "text/plain": [
       "N_Days             0\n",
       "Status             0\n",
       "Drug             106\n",
       "Age                0\n",
       "Sex                0\n",
       "Ascites          106\n",
       "Hepatomegaly     106\n",
       "Spiders          106\n",
       "Edema              0\n",
       "Bilirubin          0\n",
       "Cholesterol      134\n",
       "Albumin            0\n",
       "Copper           108\n",
       "Alk_Phos         106\n",
       "SGOT             106\n",
       "Tryglicerides    136\n",
       "Platelets         11\n",
       "Prothrombin        2\n",
       "Stage              6\n",
       "dtype: int64"
      ]
     },
     "execution_count": 166,
     "metadata": {},
     "output_type": "execute_result"
    }
   ],
   "source": [
    "df.isna().sum()"
   ]
  },
  {
   "cell_type": "markdown",
   "id": "e7262824",
   "metadata": {
    "id": "lBmqMT8frGNr",
    "papermill": {
     "duration": 0.053184,
     "end_time": "2021-11-17T11:55:11.643540",
     "exception": false,
     "start_time": "2021-11-17T11:55:11.590356",
     "status": "completed"
    },
    "tags": []
   },
   "source": [
    "# Handling Missing Values\n",
    "This is a problem, we could just get rid of all examples with NA values, but in this case our case of small dataset we cannot afford that. \n",
    "\n",
    "We will impute the missing entries with some statistical calculations."
   ]
  },
  {
   "cell_type": "markdown",
   "id": "78fd3914",
   "metadata": {
    "id": "0svL1pzi9YMM",
    "papermill": {
     "duration": 0.045285,
     "end_time": "2021-11-17T11:55:11.741671",
     "exception": false,
     "start_time": "2021-11-17T11:55:11.696386",
     "status": "completed"
    },
    "tags": []
   },
   "source": [
    "# We have two different types of data\n",
    "1. Numerical data  ( Age, Cholesterol, Platelets.. etc)\n",
    "2. Categorical Data ( Drug, Sex, Spiders..etc)\n",
    "\n",
    "We will have to use different imputation for each type\n",
    "\n",
    "1. For the numerical type we can use mean or median. In this case we will go with median to avoid skewing in the presence of outliers\n",
    "2. For Categorical type we will impute the most frequent class."
   ]
  },
  {
   "cell_type": "code",
   "execution_count": 167,
   "id": "d47a561c",
   "metadata": {
    "execution": {
     "iopub.execute_input": "2021-11-17T11:55:11.843229Z",
     "iopub.status.busy": "2021-11-17T11:55:11.842532Z",
     "iopub.status.idle": "2021-11-17T11:55:11.845146Z",
     "shell.execute_reply": "2021-11-17T11:55:11.845665Z",
     "shell.execute_reply.started": "2021-11-17T11:41:58.393841Z"
    },
    "id": "apof1BD8BLgj",
    "outputId": "8064e685-3d79-4a1d-d513-282d2a8fe25c",
    "papermill": {
     "duration": 0.059023,
     "end_time": "2021-11-17T11:55:11.845848",
     "exception": false,
     "start_time": "2021-11-17T11:55:11.786825",
     "status": "completed"
    },
    "tags": []
   },
   "outputs": [
    {
     "data": {
      "text/plain": [
       "N_Days             0\n",
       "Age                0\n",
       "Bilirubin          0\n",
       "Cholesterol      134\n",
       "Albumin            0\n",
       "Copper           108\n",
       "Alk_Phos         106\n",
       "SGOT             106\n",
       "Tryglicerides    136\n",
       "Platelets         11\n",
       "Prothrombin        2\n",
       "Stage              6\n",
       "dtype: int64"
      ]
     },
     "execution_count": 167,
     "metadata": {},
     "output_type": "execute_result"
    }
   ],
   "source": [
    "# For Numerical Type\n",
    "df.select_dtypes(include=(['int64', 'float64'])).isna().sum()"
   ]
  },
  {
   "cell_type": "code",
   "execution_count": 168,
   "id": "23fe51c8",
   "metadata": {
    "execution": {
     "iopub.execute_input": "2021-11-17T11:55:11.941730Z",
     "iopub.status.busy": "2021-11-17T11:55:11.941030Z",
     "iopub.status.idle": "2021-11-17T11:55:11.957961Z",
     "shell.execute_reply": "2021-11-17T11:55:11.958504Z",
     "shell.execute_reply.started": "2021-11-17T11:41:58.787541Z"
    },
    "id": "ZU202R4X_xof",
    "outputId": "d12677ea-40de-4787-8215-90688c86575f",
    "papermill": {
     "duration": 0.067293,
     "end_time": "2021-11-17T11:55:11.958694",
     "exception": false,
     "start_time": "2021-11-17T11:55:11.891401",
     "status": "completed"
    },
    "tags": []
   },
   "outputs": [
    {
     "data": {
      "text/plain": [
       "N_Days           0\n",
       "Age              0\n",
       "Bilirubin        0\n",
       "Cholesterol      0\n",
       "Albumin          0\n",
       "Copper           0\n",
       "Alk_Phos         0\n",
       "SGOT             0\n",
       "Tryglicerides    0\n",
       "Platelets        0\n",
       "Prothrombin      0\n",
       "Stage            0\n",
       "dtype: int64"
      ]
     },
     "execution_count": 168,
     "metadata": {},
     "output_type": "execute_result"
    }
   ],
   "source": [
    "df.select_dtypes(include=(['int64', 'float64'])).isna().sum()\n",
    "df_num_col = df.select_dtypes(include=(['int64', 'float64'])).columns\n",
    "for c in df_num_col:\n",
    "    df[c].fillna(df[c].median(), inplace=True)\n",
    "\n",
    "df.select_dtypes(include=(['int64', 'float64'])).isna().sum()"
   ]
  },
  {
   "cell_type": "code",
   "execution_count": 169,
   "id": "2e100be2",
   "metadata": {
    "execution": {
     "iopub.execute_input": "2021-11-17T11:55:12.060885Z",
     "iopub.status.busy": "2021-11-17T11:55:12.054085Z",
     "iopub.status.idle": "2021-11-17T11:55:12.064293Z",
     "shell.execute_reply": "2021-11-17T11:55:12.063785Z",
     "shell.execute_reply.started": "2021-11-17T11:41:58.808479Z"
    },
    "id": "9PYYqbhBsGj5",
    "outputId": "7f1f681b-0413-4205-df99-55c5d08f55d9",
    "papermill": {
     "duration": 0.059596,
     "end_time": "2021-11-17T11:55:12.064458",
     "exception": false,
     "start_time": "2021-11-17T11:55:12.004862",
     "status": "completed"
    },
    "tags": []
   },
   "outputs": [
    {
     "data": {
      "text/plain": [
       "Status            0\n",
       "Drug            106\n",
       "Sex               0\n",
       "Ascites         106\n",
       "Hepatomegaly    106\n",
       "Spiders         106\n",
       "Edema             0\n",
       "dtype: int64"
      ]
     },
     "execution_count": 169,
     "metadata": {},
     "output_type": "execute_result"
    }
   ],
   "source": [
    "# For Categorical type\n",
    "df.select_dtypes(include=('object')).isna().sum()"
   ]
  },
  {
   "cell_type": "code",
   "execution_count": 170,
   "id": "64e0d308",
   "metadata": {
    "execution": {
     "iopub.execute_input": "2021-11-17T11:55:12.166866Z",
     "iopub.status.busy": "2021-11-17T11:55:12.166172Z",
     "iopub.status.idle": "2021-11-17T11:55:12.176443Z",
     "shell.execute_reply": "2021-11-17T11:55:12.176996Z",
     "shell.execute_reply.started": "2021-11-17T11:41:58.81928Z"
    },
    "id": "IJJnyAzHDNvv",
    "outputId": "f596aa28-b53b-425f-e912-d3bc090f9288",
    "papermill": {
     "duration": 0.066519,
     "end_time": "2021-11-17T11:55:12.177178",
     "exception": false,
     "start_time": "2021-11-17T11:55:12.110659",
     "status": "completed"
    },
    "tags": []
   },
   "outputs": [
    {
     "data": {
      "text/plain": [
       "Status          0\n",
       "Drug            0\n",
       "Sex             0\n",
       "Ascites         0\n",
       "Hepatomegaly    0\n",
       "Spiders         0\n",
       "Edema           0\n",
       "dtype: int64"
      ]
     },
     "execution_count": 170,
     "metadata": {},
     "output_type": "execute_result"
    }
   ],
   "source": [
    "df_cat_col = df.select_dtypes(include=('object')).columns\n",
    "for c in df_cat_col:\n",
    "    df[c].fillna(df[c].mode().values[0], inplace=True)\n",
    "    \n",
    "df.select_dtypes(include=('object')).isna().sum()"
   ]
  },
  {
   "cell_type": "markdown",
   "id": "4f46f316",
   "metadata": {
    "id": "ncqhnRSwEEzQ",
    "papermill": {
     "duration": 0.047838,
     "end_time": "2021-11-17T11:55:12.272180",
     "exception": false,
     "start_time": "2021-11-17T11:55:12.224342",
     "status": "completed"
    },
    "tags": []
   },
   "source": [
    "Alright now our dataset contains no missing values 😌"
   ]
  },
  {
   "cell_type": "markdown",
   "id": "7a8db294",
   "metadata": {
    "id": "YI6GnHEPqB9w",
    "papermill": {
     "duration": 0.045775,
     "end_time": "2021-11-17T11:55:12.364236",
     "exception": false,
     "start_time": "2021-11-17T11:55:12.318461",
     "status": "completed"
    },
    "tags": []
   },
   "source": [
    "# Exploratory Data Analysys\n",
    "## Lets dive into the data and visualize it, this often revels interesting patterns.\n",
    "First lets take a look at how many examples per calss do we have in our dataset."
   ]
  },
  {
   "cell_type": "code",
   "execution_count": 171,
   "id": "fc405a8c",
   "metadata": {
    "execution": {
     "iopub.execute_input": "2021-11-17T11:55:12.469695Z",
     "iopub.status.busy": "2021-11-17T11:55:12.469017Z",
     "iopub.status.idle": "2021-11-17T11:55:12.472632Z",
     "shell.execute_reply": "2021-11-17T11:55:12.473097Z",
     "shell.execute_reply.started": "2021-11-17T11:41:58.839538Z"
    },
    "id": "cypLJgtAEP6N",
    "outputId": "ffaeb701-2127-4b11-8369-8fc8d6d47eab",
    "papermill": {
     "duration": 0.062831,
     "end_time": "2021-11-17T11:55:12.473273",
     "exception": false,
     "start_time": "2021-11-17T11:55:12.410442",
     "status": "completed"
    },
    "tags": []
   },
   "outputs": [
    {
     "data": {
      "text/plain": [
       "3.0    161\n",
       "4.0    144\n",
       "2.0     92\n",
       "1.0     21\n",
       "Name: Stage, dtype: int64"
      ]
     },
     "execution_count": 171,
     "metadata": {},
     "output_type": "execute_result"
    }
   ],
   "source": [
    "df['Stage'].value_counts()"
   ]
  },
  {
   "cell_type": "code",
   "execution_count": 172,
   "id": "5b3dbb7c",
   "metadata": {
    "execution": {
     "iopub.execute_input": "2021-11-17T11:55:12.574864Z",
     "iopub.status.busy": "2021-11-17T11:55:12.574126Z",
     "iopub.status.idle": "2021-11-17T11:55:13.039826Z",
     "shell.execute_reply": "2021-11-17T11:55:13.039055Z",
     "shell.execute_reply.started": "2021-11-17T11:41:58.855405Z"
    },
    "id": "18fQhij8ZuKy",
    "outputId": "dc9c2be3-5660-4bd7-b206-0231ddc83a87",
    "papermill": {
     "duration": 0.520149,
     "end_time": "2021-11-17T11:55:13.040001",
     "exception": false,
     "start_time": "2021-11-17T11:55:12.519852",
     "status": "completed"
    },
    "tags": []
   },
   "outputs": [
    {
     "data": {
      "text/plain": [
       "Text(0.5, 1.0, 'Number of Example Per Class')"
      ]
     },
     "execution_count": 172,
     "metadata": {},
     "output_type": "execute_result"
    },
    {
     "data": {
      "image/png": "[encoded data removed]",
      "text/plain": [
       "<Figure size 1512x360 with 1 Axes>"
      ]
     },
     "metadata": {},
     "output_type": "display_data"
    }
   ],
   "source": [
    "plt.figure(figsize=(21,5))\n",
    "sns.countplot(y=df['Stage'], palette=\"flare\", alpha=0.8, )\n",
    "sns.despine(top=True, right=True, bottom=True, left=True)\n",
    "plt.tick_params(axis='both', which='both', bottom=False, top=False, left=False)\n",
    "plt.xlabel('')\n",
    "plt.title('Number of Example Per Class')"
   ]
  },
  {
   "cell_type": "markdown",
   "id": "80ea1f48",
   "metadata": {
    "id": "LrUPScbLn2c1",
    "papermill": {
     "duration": 0.050058,
     "end_time": "2021-11-17T11:55:13.138824",
     "exception": false,
     "start_time": "2021-11-17T11:55:13.088766",
     "status": "completed"
    },
    "tags": []
   },
   "source": [
    "As we can observe we have class imbalances in our dataset i.e some classes have more examples than other. This could make it difficult for our model to train and achieve desired score. No worries, we can fix that later."
   ]
  },
  {
   "cell_type": "code",
   "execution_count": 173,
   "id": "c444b12a",
   "metadata": {},
   "outputs": [
    {
     "data": {
      "image/png": "[encoded data removed]",
      "text/plain": [
       "<Figure size 1526.4x720 with 7 Axes>"
      ]
     },
     "metadata": {},
     "output_type": "display_data"
    }
   ],
   "source": [
    "plt.figure(figsize=(21.2,10))\n",
    "r,c,fig=5,3,1\n",
    "for i in df.columns:\n",
    "    if type(df[i][1])==str:\n",
    "        if fig<(r*c):\n",
    "            plt.subplot(r,c,fig)\n",
    "            sns.countplot(x=df['Stage'],hue=df[i])\n",
    "            a=f'plot shows stage and  { i}'\n",
    "            plt.xlabel('')\n",
    "            plt.title(a)\n",
    "            plt.subplots_adjust(left=0.1,\n",
    "                    bottom=0.1, \n",
    "                    right=0.9, \n",
    "                    top=1.5, \n",
    "                    wspace=0.4, \n",
    "                    hspace=0.4)\n",
    "        fig+=1"
   ]
  },
  {
   "cell_type": "markdown",
   "id": "a9c11e01",
   "metadata": {
    "id": "PzEHJInWE5vS",
    "papermill": {
     "duration": 0.049844,
     "end_time": "2021-11-17T11:55:13.237778",
     "exception": false,
     "start_time": "2021-11-17T11:55:13.187934",
     "status": "completed"
    },
    "tags": []
   },
   "source": [
    "# Setting up Target and Features\n",
    "\n",
    "### For this demonstration we will keep things simple by predicting one of the two classes  i.e (Cirrhosis and No Cirrhois). I have another project that predicts the stage of the disease, converting this problem into a multicalss classification."
   ]
  },
  {
   "cell_type": "code",
   "execution_count": 174,
   "id": "0b8d91a6",
   "metadata": {
    "execution": {
     "iopub.execute_input": "2021-11-17T11:55:13.441060Z",
     "iopub.status.busy": "2021-11-17T11:55:13.440299Z",
     "iopub.status.idle": "2021-11-17T11:55:13.443530Z",
     "shell.execute_reply": "2021-11-17T11:55:13.442979Z",
     "shell.execute_reply.started": "2021-11-17T11:41:59.16059Z"
    },
    "id": "SzIqNbErGOcx",
    "papermill": {
     "duration": 0.059167,
     "end_time": "2021-11-17T11:55:13.443734",
     "exception": false,
     "start_time": "2021-11-17T11:55:13.384567",
     "status": "completed"
    },
    "tags": []
   },
   "outputs": [],
   "source": [
    "# Converting Target categories into intigers 1 for Cirrhosis, 0 otherwise\n",
    "df['Stage'] = np.where(df['Stage'] == 4,1,0)"
   ]
  },
  {
   "cell_type": "code",
   "execution_count": 175,
   "id": "fad80de8",
   "metadata": {},
   "outputs": [
    {
     "data": {
      "text/plain": [
       "array([1, 0])"
      ]
     },
     "execution_count": 175,
     "metadata": {},
     "output_type": "execute_result"
    }
   ],
   "source": [
    "df['Stage'].unique()"
   ]
  },
  {
   "cell_type": "markdown",
   "id": "4bb8e023",
   "metadata": {
    "id": "YbdbADbOZus9",
    "papermill": {
     "duration": 0.058176,
     "end_time": "2021-11-17T11:55:13.552538",
     "exception": false,
     "start_time": "2021-11-17T11:55:13.494362",
     "status": "completed"
    },
    "tags": []
   },
   "source": [
    "## Lets observe some Features with their relation with the disease"
   ]
  },
  {
   "cell_type": "code",
   "execution_count": 176,
   "id": "b3832e5f",
   "metadata": {
    "execution": {
     "iopub.execute_input": "2021-11-17T11:55:13.662187Z",
     "iopub.status.busy": "2021-11-17T11:55:13.661476Z",
     "iopub.status.idle": "2021-11-17T11:55:14.761875Z",
     "shell.execute_reply": "2021-11-17T11:55:14.761249Z",
     "shell.execute_reply.started": "2021-11-17T11:41:59.168136Z"
    },
    "id": "cC7v4JlTemv7",
    "outputId": "0f4bae9d-dfa9-470e-c7b0-c05648b85239",
    "papermill": {
     "duration": 1.157855,
     "end_time": "2021-11-17T11:55:14.762041",
     "exception": false,
     "start_time": "2021-11-17T11:55:13.604186",
     "status": "completed"
    },
    "tags": []
   },
   "outputs": [
    {
     "data": {
      "image/png": "[encoded data removed]",
      "text/plain": [
       "<Figure size 1526.4x720 with 4 Axes>"
      ]
     },
     "metadata": {},
     "output_type": "display_data"
    }
   ],
   "source": [
    "plt.figure(figsize=(21.2,10))\n",
    "\n",
    "plt.subplot(2,2,1)\n",
    "sns.countplot(x=df['Stage'], hue=df['Sex'], palette='Blues', alpha=0.9)\n",
    "sns.despine(top=True, right=True, bottom=True, left=True)\n",
    "plt.tick_params(axis='both', which='both', bottom=False, top=False, left=False)\n",
    "plt.xlabel('')\n",
    "plt.title('Disease Stage Across Gender')\n",
    "\n",
    "plt.subplot(2,2,2)\n",
    "sns.countplot(x=df['Stage'], hue=df['Ascites'], palette='Purples', alpha=0.9)\n",
    "sns.despine(top=True, right=True, bottom=True, left=True)\n",
    "plt.tick_params(axis='both', which='both', bottom=False, top=False, left=False)\n",
    "plt.xlabel('')\n",
    "plt.title('Ascites proportion across Stages')\n",
    "\n",
    "plt.subplot(2,2,3)\n",
    "sns.countplot(x=df['Stage'], hue=df['Drug'], palette='Blues', alpha=0.9)\n",
    "sns.despine(top=True, right=True, bottom=True, left=True)\n",
    "plt.tick_params(axis='both', which='both', bottom=False, top=False, left=False)\n",
    "plt.xlabel('')\n",
    "plt.title('Medications prescribed across Stages');\n",
    "\n",
    "plt.subplot(2,2,4)\n",
    "sns.countplot(x=df['Stage'], hue=df['Hepatomegaly'], palette='Purples', alpha=0.9)\n",
    "sns.despine(top=True, right=True, bottom=True, left=True)\n",
    "plt.tick_params(axis='both', which='both', bottom=False, top=False, left=False)\n",
    "plt.xlabel('')\n",
    "plt.title('Hepatomegaly');\n",
    "\n"
   ]
  },
  {
   "cell_type": "markdown",
   "id": "43d332f8",
   "metadata": {
    "id": "Ndpxg0cKycqW",
    "papermill": {
     "duration": 0.051942,
     "end_time": "2021-11-17T11:55:14.864753",
     "exception": false,
     "start_time": "2021-11-17T11:55:14.812811",
     "status": "completed"
    },
    "tags": []
   },
   "source": [
    "There are some interesting insights if we observe closely. Take the case at Ascites, we observe that the rist of disease is higher with increase in Ascites. also presence of spiders has a positive relation with disease risk."
   ]
  },
  {
   "cell_type": "code",
   "execution_count": 177,
   "id": "e36ad667",
   "metadata": {
    "cellView": "form",
    "execution": {
     "iopub.execute_input": "2021-11-17T11:55:14.981720Z",
     "iopub.status.busy": "2021-11-17T11:55:14.980593Z",
     "iopub.status.idle": "2021-11-17T11:55:17.713033Z",
     "shell.execute_reply": "2021-11-17T11:55:17.713680Z",
     "shell.execute_reply.started": "2021-11-17T11:42:00.260971Z"
    },
    "id": "LITwHWnHk0L-",
    "outputId": "73e58075-2150-4050-f8a1-575b7a914353",
    "papermill": {
     "duration": 2.798135,
     "end_time": "2021-11-17T11:55:17.713899",
     "exception": false,
     "start_time": "2021-11-17T11:55:14.915764",
     "status": "completed"
    },
    "tags": []
   },
   "outputs": [
    {
     "data": {
      "image/png": "[encoded data removed]",
      "text/plain": [
       "<Figure size 1483.2x1080 with 9 Axes>"
      ]
     },
     "metadata": {},
     "output_type": "display_data"
    }
   ],
   "source": [
    "#@title Distribution Polts\n",
    "plt.figure(figsize=(20.6,15))\n",
    "\n",
    "plt.subplot(3,3,1)\n",
    "sns.kdeplot(df['Cholesterol'], hue=df['Stage'], fill=True, palette='Purples')\n",
    "sns.despine(top=True, right=True, bottom=True, left=True)\n",
    "plt.tick_params(axis='both', which='both', bottom=False, top=False, left=False)\n",
    "plt.xlabel('')\n",
    "plt.title('Cholesterol Distribution in stages');\n",
    "\n",
    "plt.subplot(3,3,2)\n",
    "sns.kdeplot(df['Bilirubin'], hue=df['Stage'], fill=True, palette='Blues', common_norm=True)\n",
    "sns.despine(top=True, right=True, bottom=True, left=True)\n",
    "plt.tick_params(axis='both', which='both', bottom=False, top=False, left=False)\n",
    "plt.xlabel('')\n",
    "plt.title('Bilirubin');\n",
    "\n",
    "plt.subplot(3,3,3)\n",
    "sns.kdeplot(df['Tryglicerides'], hue=df['Stage'], fill=True, palette='Purples', common_norm=True)\n",
    "sns.despine(top=True, right=True, bottom=True, left=True)\n",
    "plt.tick_params(axis='both', which='both', bottom=False, top=False, left=False)\n",
    "plt.xlabel('')\n",
    "plt.title('Tryglicerides');\n",
    "\n",
    "plt.subplot(3,3,4)\n",
    "sns.kdeplot(df['Age'], hue=df['Stage'], fill=True, palette='Blues', common_norm=True)\n",
    "sns.despine(top=True, right=True, bottom=True, left=True)\n",
    "plt.tick_params(axis='both', which='both', bottom=False, top=False, left=False)\n",
    "plt.xlabel('')\n",
    "plt.title('Age Distribution in stages');\n",
    "\n",
    "plt.subplot(3,3,5)\n",
    "sns.kdeplot(df['Prothrombin'], hue=df['Stage'], fill=True, palette='Purples', common_norm=True)\n",
    "sns.despine(top=True, right=True, bottom=True, left=True)\n",
    "plt.tick_params(axis='both', which='both', bottom=False, top=False, left=False)\n",
    "plt.xlabel('')\n",
    "plt.title('Prothrombin');\n",
    "\n",
    "plt.subplot(3,3,6)\n",
    "sns.kdeplot(df['Copper'], hue=df['Stage'], fill=True, palette='Blues', common_norm=True)\n",
    "sns.despine(top=True, right=True, bottom=True, left=True)\n",
    "plt.tick_params(axis='both', which='both', bottom=False, top=False, left=False)\n",
    "plt.xlabel('')\n",
    "plt.title('Copper');\n",
    "\n",
    "plt.subplot(3,3,7)\n",
    "sns.kdeplot(df['Platelets'], hue=df['Stage'], fill=True, palette='Purples')\n",
    "sns.despine(top=True, right=True, bottom=True, left=True)\n",
    "plt.tick_params(axis='both', which='both', bottom=False, top=False, left=False)\n",
    "plt.xlabel('')\n",
    "plt.title('Platelets in stages');\n",
    "\n",
    "plt.subplot(3,3,8)\n",
    "sns.kdeplot(df['Albumin'], hue=df['Stage'], fill=True, palette='Blues', common_norm=True)\n",
    "sns.despine(top=True, right=True, bottom=True, left=True)\n",
    "plt.tick_params(axis='both', which='both', bottom=False, top=False, left=False)\n",
    "plt.xlabel('')\n",
    "plt.title('Albumin');\n",
    "\n",
    "plt.subplot(3,3,9)\n",
    "sns.kdeplot(df['SGOT'], hue=df['Stage'], fill=True, palette='Purples', common_norm=True)\n",
    "sns.despine(top=True, right=True, bottom=True, left=True)\n",
    "plt.tick_params(axis='both', which='both', bottom=False, top=False, left=False)\n",
    "plt.xlabel('')\n",
    "plt.title('SGOT');"
   ]
  },
  {
   "cell_type": "markdown",
   "id": "be8d5063",
   "metadata": {
    "id": "uRJNJKI6tjXc",
    "papermill": {
     "duration": 0.072887,
     "end_time": "2021-11-17T11:55:41.228806",
     "exception": false,
     "start_time": "2021-11-17T11:55:41.155919",
     "status": "completed"
    },
    "tags": []
   },
   "source": [
    "# Preprocessing data"
   ]
  },
  {
   "cell_type": "code",
   "execution_count": 178,
   "id": "afc3f3fa",
   "metadata": {
    "execution": {
     "iopub.execute_input": "2021-11-17T11:55:41.393162Z",
     "iopub.status.busy": "2021-11-17T11:55:41.383230Z",
     "iopub.status.idle": "2021-11-17T11:55:41.402470Z",
     "shell.execute_reply": "2021-11-17T11:55:41.403278Z",
     "shell.execute_reply.started": "2021-11-17T11:42:25.706227Z"
    },
    "id": "hV51hHxVsiYE",
    "papermill": {
     "duration": 0.099874,
     "end_time": "2021-11-17T11:55:41.403569",
     "exception": false,
     "start_time": "2021-11-17T11:55:41.303695",
     "status": "completed"
    },
    "tags": []
   },
   "outputs": [],
   "source": [
    "# replacing catagorical data with intigers.\n",
    "df['Sex'] = df['Sex'].replace({'M':0, 'F':1})                                # Male : 0 , Female :1\n",
    "df['Ascites'] = df['Ascites'].replace({'N':0, 'Y':1})                        # N : 0, Y : 1   \n",
    "df['Drug'] = df['Drug'].replace({'D-penicillamine':0, 'Placebo':1})          # D-penicillamine : 0, Placebo : 1   \n",
    "df['Hepatomegaly'] = df['Hepatomegaly'].replace({'N':0, 'Y':1})              # N : 0, Y : 1\n",
    "df['Spiders'] = df['Spiders'].replace({'N':0, 'Y':1})                        # N : 0, Y : 1\n",
    "df['Edema'] = df['Edema'].replace({'N':0, 'Y':1, 'S':-1})                    # N : 0, Y : 1, S : -1\n",
    "df['Status'] = df['Status'].replace({'C':0, 'CL':1, 'D':-1})                 # 'C':0, 'CL':1, 'D':-1"
   ]
  },
  {
   "cell_type": "markdown",
   "id": "413689e3",
   "metadata": {
    "id": "q_GFJ1FMiEtI",
    "papermill": {
     "duration": 0.063737,
     "end_time": "2021-11-17T11:55:41.533645",
     "exception": false,
     "start_time": "2021-11-17T11:55:41.469908",
     "status": "completed"
    },
    "tags": []
   },
   "source": [
    "## We will not be using 'Status' and 'N_days' as our features since this will cause data Leakage."
   ]
  },
  {
   "cell_type": "code",
   "execution_count": 179,
   "id": "681259e0",
   "metadata": {
    "execution": {
     "iopub.execute_input": "2021-11-17T11:55:41.671989Z",
     "iopub.status.busy": "2021-11-17T11:55:41.670888Z",
     "iopub.status.idle": "2021-11-17T11:55:41.672929Z",
     "shell.execute_reply": "2021-11-17T11:55:41.673560Z",
     "shell.execute_reply.started": "2021-11-17T11:42:25.724337Z"
    },
    "id": "ax9cPExnvb6L",
    "papermill": {
     "duration": 0.072942,
     "end_time": "2021-11-17T11:55:41.673750",
     "exception": false,
     "start_time": "2021-11-17T11:55:41.600808",
     "status": "completed"
    },
    "tags": []
   },
   "outputs": [],
   "source": [
    "# Setting up Features and Target\n",
    "X = df.drop(['Status', 'N_Days', 'Stage'], axis=1)\n",
    "y = df.pop('Stage')"
   ]
  },
  {
   "cell_type": "markdown",
   "id": "8eb908ab",
   "metadata": {
    "id": "RAFVDg1d3Gqn",
    "papermill": {
     "duration": 0.059154,
     "end_time": "2021-11-17T11:55:41.792916",
     "exception": false,
     "start_time": "2021-11-17T11:55:41.733762",
     "status": "completed"
    },
    "tags": []
   },
   "source": [
    "### Earlier while examining the distribution of target in the data, we found that the data is unevenly distributed, that is there are more examples of a certain class than other. \n",
    "\n",
    "###To tackel this imbalance we will use **Stratified k-Fold** Cross Validation."
   ]
  },
  {
   "cell_type": "markdown",
   "id": "f26d86cb",
   "metadata": {
    "id": "ygyyBLZmqobe",
    "papermill": {
     "duration": 0.059694,
     "end_time": "2021-11-17T11:55:41.913264",
     "exception": false,
     "start_time": "2021-11-17T11:55:41.853570",
     "status": "completed"
    },
    "tags": []
   },
   "source": [
    "# Model Selection. \n",
    "lets first try out a quick Logestic regression classifier and see how it performs."
   ]
  },
  {
   "cell_type": "code",
   "execution_count": 180,
   "id": "4ee02440",
   "metadata": {
    "execution": {
     "iopub.execute_input": "2021-11-17T11:55:42.044549Z",
     "iopub.status.busy": "2021-11-17T11:55:42.043782Z",
     "iopub.status.idle": "2021-11-17T11:55:44.482192Z",
     "shell.execute_reply": "2021-11-17T11:55:44.481615Z",
     "shell.execute_reply.started": "2021-11-17T11:42:25.73447Z"
    },
    "id": "1HWKbWAVjJtk",
    "outputId": "f5a06750-5faa-4156-c4ae-626b0b52cff5",
    "papermill": {
     "duration": 2.507344,
     "end_time": "2021-11-17T11:55:44.482395",
     "exception": false,
     "start_time": "2021-11-17T11:55:41.975051",
     "status": "completed"
    },
    "tags": []
   },
   "outputs": [
    {
     "name": "stdout",
     "output_type": "stream",
     "text": [
      "For Fold 1 the accuracy is 0.6904761904761905\n",
      "For Fold 2 the accuracy is 0.7857142857142857\n",
      "For Fold 3 the accuracy is 0.6190476190476191\n",
      "For Fold 4 the accuracy is 0.6666666666666666\n",
      "For Fold 5 the accuracy is 0.8095238095238095\n",
      "For Fold 6 the accuracy is 0.6666666666666666\n",
      "For Fold 7 the accuracy is 0.6904761904761905\n",
      "For Fold 8 the accuracy is 0.7380952380952381\n",
      "For Fold 9 the accuracy is 0.7317073170731707\n",
      "For Fold 10 the accuracy is 0.6341463414634146\n",
      "\n",
      "Logestic Regression Mean Accuracy =  0.7032520325203252\n"
     ]
    }
   ],
   "source": [
    "from sklearn.linear_model import LogisticRegression\n",
    "from sklearn.model_selection import StratifiedKFold\n",
    "\n",
    "log_model = LogisticRegression(max_iter=5000, solver='saga')\n",
    "skf = StratifiedKFold(n_splits=10, random_state=1, shuffle=True)\n",
    "\n",
    "acc=[]\n",
    "def training(train, test, fold_no):\n",
    "  X_train = train\n",
    "  y_train = y.iloc[train_index]\n",
    "  X_test = test\n",
    "  y_test = y.iloc[test_index]\n",
    "  log_model.fit(X_train, y_train)\n",
    "  score = log_model.score(X_test,y_test)\n",
    "  acc.append(score)\n",
    "  print('For Fold {} the accuracy is {}'.format(str(fold_no),score))\n",
    "\n",
    "fold_no = 1\n",
    "for train_index,test_index in skf.split(X, y):\n",
    "  train = X.iloc[train_index,:]\n",
    "  test = X.iloc[test_index,:]\n",
    "  training(train, test, fold_no)\n",
    "  fold_no += 1\n",
    "print()\n",
    "print('Logestic Regression Mean Accuracy = ', np.mean(acc))"
   ]
  },
  {
   "cell_type": "code",
   "execution_count": 181,
   "id": "4099d13e",
   "metadata": {
    "execution": {
     "iopub.execute_input": "2021-11-17T11:55:44.619533Z",
     "iopub.status.busy": "2021-11-17T11:55:44.618807Z",
     "iopub.status.idle": "2021-11-17T11:55:44.626580Z",
     "shell.execute_reply": "2021-11-17T11:55:44.625918Z",
     "shell.execute_reply.started": "2021-11-17T11:42:27.912261Z"
    },
    "id": "Xw9w_USTsMKj",
    "outputId": "ab4a6c64-0b38-40eb-88d5-061bf9e0ed89",
    "papermill": {
     "duration": 0.081271,
     "end_time": "2021-11-17T11:55:44.626737",
     "exception": false,
     "start_time": "2021-11-17T11:55:44.545466",
     "status": "completed"
    },
    "tags": []
   },
   "outputs": [
    {
     "name": "stdout",
     "output_type": "stream",
     "text": [
      "              precision    recall  f1-score   support\n",
      "\n",
      "           0       0.70      0.78      0.74        27\n",
      "           1       0.45      0.36      0.40        14\n",
      "\n",
      "    accuracy                           0.63        41\n",
      "   macro avg       0.58      0.57      0.57        41\n",
      "weighted avg       0.62      0.63      0.62        41\n",
      "\n"
     ]
    }
   ],
   "source": [
    "from sklearn.metrics import classification_report\n",
    "log_model_predict = log_model.predict(test)\n",
    "log_model_predict_proba = log_model.predict_proba(test)\n",
    "\n",
    "print(classification_report(y.iloc[test_index], log_model_predict))"
   ]
  },
  {
   "cell_type": "markdown",
   "id": "dda056e0",
   "metadata": {
    "id": "f7fH9M55r1ET",
    "papermill": {
     "duration": 0.064379,
     "end_time": "2021-11-17T11:55:45.916445",
     "exception": false,
     "start_time": "2021-11-17T11:55:45.852066",
     "status": "completed"
    },
    "tags": []
   },
   "source": [
    "## Lets try Gradient Boosted Classifier from **XGboost**."
   ]
  },
  {
   "cell_type": "code",
   "execution_count": 182,
   "id": "72863a13",
   "metadata": {
    "execution": {
     "iopub.execute_input": "2021-11-17T11:55:46.050722Z",
     "iopub.status.busy": "2021-11-17T11:55:46.050023Z",
     "iopub.status.idle": "2021-11-17T11:55:49.203885Z",
     "shell.execute_reply": "2021-11-17T11:55:49.204477Z",
     "shell.execute_reply.started": "2021-11-17T11:42:28.722485Z"
    },
    "id": "9dTqsRoczYsi",
    "outputId": "e194303a-466d-4d0e-c247-452e40fec798",
    "papermill": {
     "duration": 3.224125,
     "end_time": "2021-11-17T11:55:49.204702",
     "exception": false,
     "start_time": "2021-11-17T11:55:45.980577",
     "status": "completed"
    },
    "scrolled": true,
    "tags": []
   },
   "outputs": [
    {
     "name": "stdout",
     "output_type": "stream",
     "text": [
      "For Fold 1 the accuracy is 0.7857142857142857\n",
      "For Fold 2 the accuracy is 0.7619047619047619\n",
      "For Fold 3 the accuracy is 0.6428571428571429\n",
      "For Fold 4 the accuracy is 0.7380952380952381\n",
      "For Fold 5 the accuracy is 0.7619047619047619\n",
      "For Fold 6 the accuracy is 0.7142857142857143\n",
      "For Fold 7 the accuracy is 0.7142857142857143\n",
      "For Fold 8 the accuracy is 0.7619047619047619\n",
      "For Fold 9 the accuracy is 0.6829268292682927\n",
      "For Fold 10 the accuracy is 0.7804878048780488\n",
      "\n",
      "XGboost model Mean Accuracy =  0.7344367015098723\n"
     ]
    }
   ],
   "source": [
    "from sklearn.model_selection import StratifiedKFold\n",
    "from xgboost import XGBClassifier\n",
    "skf = StratifiedKFold(n_splits=10, random_state=1, shuffle=True)\n",
    "model = XGBClassifier(learning_rate=0.75, max_depth=3, random_state=1, gamma=0, eval_metric='error') # tried learning rate values between range [0.01 - 10] & depth [2-8]\n",
    "\n",
    "acc=[]\n",
    "def training(train, test, fold_no):\n",
    "  X_train = train\n",
    "  y_train = y.iloc[train_index]\n",
    "  X_test = test\n",
    "  y_test = y.iloc[test_index]\n",
    "  model.fit(X_train, y_train)\n",
    "  score = model.score(X_test,y_test)\n",
    "  acc.append(score)\n",
    "  print('For Fold {} the accuracy is {}'.format(str(fold_no),score))\n",
    "\n",
    "fold_no = 1\n",
    "for train_index,test_index in skf.split(X, y):\n",
    "  train = X.iloc[train_index,:]\n",
    "  test = X.iloc[test_index,:]\n",
    "  training(train, test, fold_no)\n",
    "  fold_no += 1\n",
    "print()\n",
    "print('XGboost model Mean Accuracy = ', np.mean(acc))"
   ]
  },
  {
   "cell_type": "code",
   "execution_count": 183,
   "id": "0bfbeea2",
   "metadata": {
    "execution": {
     "iopub.execute_input": "2021-11-17T11:55:49.352404Z",
     "iopub.status.busy": "2021-11-17T11:55:49.351665Z",
     "iopub.status.idle": "2021-11-17T11:55:49.372340Z",
     "shell.execute_reply": "2021-11-17T11:55:49.372924Z",
     "shell.execute_reply.started": "2021-11-17T11:42:31.760241Z"
    },
    "id": "BbMxEy05TepL",
    "outputId": "ae45d0fb-0995-4a32-d494-1349130122be",
    "papermill": {
     "duration": 0.0977,
     "end_time": "2021-11-17T11:55:49.373153",
     "exception": false,
     "start_time": "2021-11-17T11:55:49.275453",
     "status": "completed"
    },
    "tags": []
   },
   "outputs": [
    {
     "name": "stdout",
     "output_type": "stream",
     "text": [
      "              precision    recall  f1-score   support\n",
      "\n",
      "           0       0.82      0.85      0.84        27\n",
      "           1       0.69      0.64      0.67        14\n",
      "\n",
      "    accuracy                           0.78        41\n",
      "   macro avg       0.76      0.75      0.75        41\n",
      "weighted avg       0.78      0.78      0.78        41\n",
      "\n"
     ]
    }
   ],
   "source": [
    "from sklearn.metrics import classification_report\n",
    "XGB_model_predict = model.predict(test)\n",
    "XGB_model_predict_proba = model.predict_proba(test)\n",
    "\n",
    "print(classification_report(y.iloc[test_index], XGB_model_predict))"
   ]
  }
 ],
 "metadata": {
  "kernelspec": {
   "display_name": "Python 3 (ipykernel)",
   "language": "python",
   "name": "python3"
  },
  "language_info": {
   "codemirror_mode": {
    "name": "ipython",
    "version": 3
   },
   "file_extension": ".py",
   "mimetype": "text/x-python",
   "name": "python",
   "nbconvert_exporter": "python",
   "pygments_lexer": "ipython3",
   "version": "3.9.10"
  },
  "papermill": {
   "default_parameters": {},
   "duration": 55.155261,
   "end_time": "2021-11-17T11:55:54.707303",
   "environment_variables": {},
   "exception": null,
   "input_path": "__notebook__.ipynb",
   "output_path": "__notebook__.ipynb",
   "parameters": {},
   "start_time": "2021-11-17T11:54:59.552042",
   "version": "2.3.3"
  }
 },
 "nbformat": 4,
 "nbformat_minor": 5
}
